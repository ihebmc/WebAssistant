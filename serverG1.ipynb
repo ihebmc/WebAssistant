{
 "cells": [
  {
   "cell_type": "code",
   "execution_count": null,
   "id": "d8cca71c-5557-4fd4-bd7c-b3d009e8e72e",
   "metadata": {},
   "outputs": [
    {
     "name": "stdout",
     "output_type": "stream",
     "text": [
      " * Serving Flask app '__main__'\n",
      " * Debug mode: on\n"
     ]
    },
    {
     "name": "stderr",
     "output_type": "stream",
     "text": [
      "WARNING: This is a development server. Do not use it in a production deployment. Use a production WSGI server instead.\n",
      " * Running on http://127.0.0.1:5000\n",
      "Press CTRL+C to quit\n",
      "127.0.0.1 - - [05/Sep/2024 11:58:53] \"GET / HTTP/1.1\" 200 -\n"
     ]
    },
    {
     "name": "stdout",
     "output_type": "stream",
     "text": [
      "Listening...\n"
     ]
    },
    {
     "name": "stderr",
     "output_type": "stream",
     "text": [
      "127.0.0.1 - - [05/Sep/2024 11:59:01] \"POST /start_listening HTTP/1.1\" 200 -\n",
      "127.0.0.1 - - [05/Sep/2024 11:59:07] \"POST /send_message HTTP/1.1\" 200 -\n"
     ]
    },
    {
     "name": "stdout",
     "output_type": "stream",
     "text": [
      "Listening...\n"
     ]
    },
    {
     "name": "stderr",
     "output_type": "stream",
     "text": [
      "127.0.0.1 - - [05/Sep/2024 11:59:16] \"POST /start_listening HTTP/1.1\" 200 -\n",
      "127.0.0.1 - - [05/Sep/2024 11:59:18] \"POST /send_message HTTP/1.1\" 200 -\n",
      "127.0.0.1 - - [05/Sep/2024 11:59:24] \"GET / HTTP/1.1\" 200 -\n",
      "127.0.0.1 - - [05/Sep/2024 11:59:33] \"POST /send_message HTTP/1.1\" 200 -\n"
     ]
    },
    {
     "name": "stdout",
     "output_type": "stream",
     "text": [
      "Listening...\n"
     ]
    },
    {
     "name": "stderr",
     "output_type": "stream",
     "text": [
      "127.0.0.1 - - [05/Sep/2024 11:59:46] \"POST /start_listening HTTP/1.1\" 200 -\n",
      "127.0.0.1 - - [05/Sep/2024 11:59:48] \"POST /send_message HTTP/1.1\" 200 -\n",
      "127.0.0.1 - - [05/Sep/2024 12:00:23] \"GET / HTTP/1.1\" 200 -\n"
     ]
    },
    {
     "name": "stdout",
     "output_type": "stream",
     "text": [
      "Listening...\n"
     ]
    },
    {
     "name": "stderr",
     "output_type": "stream",
     "text": [
      "127.0.0.1 - - [05/Sep/2024 12:00:29] \"POST /start_listening HTTP/1.1\" 200 -\n",
      "127.0.0.1 - - [05/Sep/2024 12:00:29] \"POST /send_message HTTP/1.1\" 200 -\n",
      "127.0.0.1 - - [05/Sep/2024 12:00:58] \"GET / HTTP/1.1\" 200 -\n"
     ]
    },
    {
     "name": "stdout",
     "output_type": "stream",
     "text": [
      "Listening...\n"
     ]
    },
    {
     "name": "stderr",
     "output_type": "stream",
     "text": [
      "127.0.0.1 - - [05/Sep/2024 12:01:02] \"POST /start_listening HTTP/1.1\" 200 -\n",
      "127.0.0.1 - - [05/Sep/2024 12:01:03] \"POST /send_message HTTP/1.1\" 200 -\n"
     ]
    },
    {
     "name": "stdout",
     "output_type": "stream",
     "text": [
      "Listening...\n"
     ]
    },
    {
     "name": "stderr",
     "output_type": "stream",
     "text": [
      "127.0.0.1 - - [05/Sep/2024 12:01:34] \"GET / HTTP/1.1\" 200 -\n"
     ]
    },
    {
     "name": "stdout",
     "output_type": "stream",
     "text": [
      "Listening...\n"
     ]
    },
    {
     "name": "stderr",
     "output_type": "stream",
     "text": [
      "127.0.0.1 - - [05/Sep/2024 12:01:38] \"POST /start_listening HTTP/1.1\" 200 -\n",
      "127.0.0.1 - - [05/Sep/2024 12:01:38] \"POST /send_message HTTP/1.1\" 200 -\n",
      "127.0.0.1 - - [05/Sep/2024 12:01:38] \"POST /start_listening HTTP/1.1\" 200 -\n",
      "127.0.0.1 - - [05/Sep/2024 12:01:49] \"GET / HTTP/1.1\" 200 -\n"
     ]
    },
    {
     "name": "stdout",
     "output_type": "stream",
     "text": [
      "Listening...\n"
     ]
    },
    {
     "name": "stderr",
     "output_type": "stream",
     "text": [
      "127.0.0.1 - - [05/Sep/2024 12:01:58] \"POST /start_listening HTTP/1.1\" 200 -\n",
      "127.0.0.1 - - [05/Sep/2024 12:02:03] \"POST /send_message HTTP/1.1\" 200 -\n",
      "127.0.0.1 - - [05/Sep/2024 12:02:20] \"GET / HTTP/1.1\" 200 -\n"
     ]
    },
    {
     "name": "stdout",
     "output_type": "stream",
     "text": [
      "Listening...\n"
     ]
    },
    {
     "name": "stderr",
     "output_type": "stream",
     "text": [
      "127.0.0.1 - - [05/Sep/2024 12:02:44] \"POST /start_listening HTTP/1.1\" 200 -\n",
      "127.0.0.1 - - [05/Sep/2024 12:02:47] \"POST /send_message HTTP/1.1\" 200 -\n",
      "127.0.0.1 - - [05/Sep/2024 12:03:08] \"GET / HTTP/1.1\" 200 -\n"
     ]
    },
    {
     "name": "stdout",
     "output_type": "stream",
     "text": [
      "Listening...\n"
     ]
    },
    {
     "name": "stderr",
     "output_type": "stream",
     "text": [
      "127.0.0.1 - - [05/Sep/2024 12:03:13] \"POST /start_listening HTTP/1.1\" 200 -\n",
      "127.0.0.1 - - [05/Sep/2024 12:03:14] \"POST /send_message HTTP/1.1\" 200 -\n",
      "127.0.0.1 - - [05/Sep/2024 12:03:20] \"GET / HTTP/1.1\" 200 -\n"
     ]
    },
    {
     "name": "stdout",
     "output_type": "stream",
     "text": [
      "Listening...\n"
     ]
    },
    {
     "name": "stderr",
     "output_type": "stream",
     "text": [
      "127.0.0.1 - - [05/Sep/2024 12:03:25] \"POST /start_listening HTTP/1.1\" 200 -\n",
      "127.0.0.1 - - [05/Sep/2024 12:03:27] \"POST /send_message HTTP/1.1\" 200 -\n",
      "127.0.0.1 - - [05/Sep/2024 12:03:35] \"GET / HTTP/1.1\" 200 -\n"
     ]
    },
    {
     "name": "stdout",
     "output_type": "stream",
     "text": [
      "Listening...\n"
     ]
    },
    {
     "name": "stderr",
     "output_type": "stream",
     "text": [
      "127.0.0.1 - - [05/Sep/2024 12:03:44] \"POST /start_listening HTTP/1.1\" 200 -\n",
      "127.0.0.1 - - [05/Sep/2024 12:03:46] \"POST /send_message HTTP/1.1\" 200 -\n",
      "127.0.0.1 - - [05/Sep/2024 12:03:48] \"GET / HTTP/1.1\" 200 -\n",
      "127.0.0.1 - - [05/Sep/2024 12:03:55] \"GET / HTTP/1.1\" 200 -\n",
      "127.0.0.1 - - [05/Sep/2024 12:04:13] \"GET / HTTP/1.1\" 200 -\n",
      "127.0.0.1 - - [05/Sep/2024 12:04:31] \"GET / HTTP/1.1\" 200 -\n"
     ]
    },
    {
     "name": "stdout",
     "output_type": "stream",
     "text": [
      "Listening...\n"
     ]
    },
    {
     "name": "stderr",
     "output_type": "stream",
     "text": [
      "127.0.0.1 - - [05/Sep/2024 12:04:47] \"POST /start_listening HTTP/1.1\" 200 -\n",
      "127.0.0.1 - - [05/Sep/2024 12:04:48] \"POST /send_message HTTP/1.1\" 200 -\n",
      "127.0.0.1 - - [05/Sep/2024 12:05:12] \"GET / HTTP/1.1\" 200 -\n"
     ]
    },
    {
     "name": "stdout",
     "output_type": "stream",
     "text": [
      "Listening...\n"
     ]
    },
    {
     "name": "stderr",
     "output_type": "stream",
     "text": [
      "127.0.0.1 - - [05/Sep/2024 12:05:18] \"POST /start_listening HTTP/1.1\" 200 -\n",
      "127.0.0.1 - - [05/Sep/2024 12:05:19] \"POST /send_message HTTP/1.1\" 200 -\n",
      "127.0.0.1 - - [05/Sep/2024 12:05:37] \"GET / HTTP/1.1\" 200 -\n"
     ]
    },
    {
     "name": "stdout",
     "output_type": "stream",
     "text": [
      "Listening...\n"
     ]
    },
    {
     "name": "stderr",
     "output_type": "stream",
     "text": [
      "127.0.0.1 - - [05/Sep/2024 12:05:44] \"POST /start_listening HTTP/1.1\" 200 -\n"
     ]
    },
    {
     "name": "stdout",
     "output_type": "stream",
     "text": [
      "Listening...\n"
     ]
    },
    {
     "name": "stderr",
     "output_type": "stream",
     "text": [
      "127.0.0.1 - - [05/Sep/2024 12:06:01] \"POST /start_listening HTTP/1.1\" 200 -\n"
     ]
    },
    {
     "name": "stdout",
     "output_type": "stream",
     "text": [
      "Listening...\n"
     ]
    },
    {
     "name": "stderr",
     "output_type": "stream",
     "text": [
      "127.0.0.1 - - [05/Sep/2024 12:06:04] \"POST /send_message HTTP/1.1\" 200 -\n",
      "127.0.0.1 - - [05/Sep/2024 12:06:06] \"POST /start_listening HTTP/1.1\" 200 -\n",
      "127.0.0.1 - - [05/Sep/2024 12:06:07] \"POST /send_message HTTP/1.1\" 200 -\n",
      "127.0.0.1 - - [05/Sep/2024 12:06:11] \"GET / HTTP/1.1\" 200 -\n",
      "127.0.0.1 - - [05/Sep/2024 12:06:53] \"GET / HTTP/1.1\" 200 -\n",
      "127.0.0.1 - - [05/Sep/2024 12:07:02] \"GET / HTTP/1.1\" 200 -\n"
     ]
    },
    {
     "name": "stdout",
     "output_type": "stream",
     "text": [
      "Listening...\n"
     ]
    },
    {
     "name": "stderr",
     "output_type": "stream",
     "text": [
      "127.0.0.1 - - [05/Sep/2024 12:07:09] \"POST /start_listening HTTP/1.1\" 200 -\n",
      "127.0.0.1 - - [05/Sep/2024 12:07:13] \"POST /send_message HTTP/1.1\" 200 -\n",
      "127.0.0.1 - - [05/Sep/2024 12:07:30] \"GET / HTTP/1.1\" 200 -\n"
     ]
    },
    {
     "name": "stdout",
     "output_type": "stream",
     "text": [
      "Listening...\n"
     ]
    },
    {
     "name": "stderr",
     "output_type": "stream",
     "text": [
      "127.0.0.1 - - [05/Sep/2024 12:07:45] \"POST /start_listening HTTP/1.1\" 200 -\n",
      "127.0.0.1 - - [05/Sep/2024 12:08:03] \"POST /send_message HTTP/1.1\" 200 -\n",
      "127.0.0.1 - - [05/Sep/2024 12:09:11] \"GET / HTTP/1.1\" 200 -\n"
     ]
    },
    {
     "name": "stdout",
     "output_type": "stream",
     "text": [
      "Listening...\n"
     ]
    },
    {
     "name": "stderr",
     "output_type": "stream",
     "text": [
      "127.0.0.1 - - [05/Sep/2024 12:09:25] \"POST /start_listening HTTP/1.1\" 200 -\n",
      "127.0.0.1 - - [05/Sep/2024 12:09:27] \"GET / HTTP/1.1\" 200 -\n",
      "127.0.0.1 - - [05/Sep/2024 12:09:28] \"POST /send_message HTTP/1.1\" 200 -\n"
     ]
    },
    {
     "name": "stdout",
     "output_type": "stream",
     "text": [
      "Listening...\n"
     ]
    },
    {
     "name": "stderr",
     "output_type": "stream",
     "text": [
      "127.0.0.1 - - [05/Sep/2024 12:09:37] \"POST /start_listening HTTP/1.1\" 200 -\n",
      "127.0.0.1 - - [05/Sep/2024 12:09:38] \"POST /send_message HTTP/1.1\" 200 -\n",
      "127.0.0.1 - - [05/Sep/2024 12:09:42] \"GET / HTTP/1.1\" 200 -\n"
     ]
    },
    {
     "name": "stdout",
     "output_type": "stream",
     "text": [
      "Listening...\n"
     ]
    },
    {
     "name": "stderr",
     "output_type": "stream",
     "text": [
      "127.0.0.1 - - [05/Sep/2024 12:09:50] \"POST /start_listening HTTP/1.1\" 200 -\n",
      "127.0.0.1 - - [05/Sep/2024 12:09:53] \"POST /send_message HTTP/1.1\" 200 -\n"
     ]
    },
    {
     "name": "stdout",
     "output_type": "stream",
     "text": [
      "Listening...\n"
     ]
    },
    {
     "name": "stderr",
     "output_type": "stream",
     "text": [
      "127.0.0.1 - - [05/Sep/2024 12:10:19] \"POST /start_listening HTTP/1.1\" 200 -\n",
      "127.0.0.1 - - [05/Sep/2024 12:10:20] \"POST /send_message HTTP/1.1\" 200 -\n"
     ]
    },
    {
     "name": "stdout",
     "output_type": "stream",
     "text": [
      "Listening...\n"
     ]
    },
    {
     "name": "stderr",
     "output_type": "stream",
     "text": [
      "127.0.0.1 - - [05/Sep/2024 12:10:43] \"GET / HTTP/1.1\" 200 -\n"
     ]
    },
    {
     "name": "stdout",
     "output_type": "stream",
     "text": [
      "Listening...\n"
     ]
    },
    {
     "name": "stderr",
     "output_type": "stream",
     "text": [
      "127.0.0.1 - - [05/Sep/2024 12:10:48] \"POST /start_listening HTTP/1.1\" 200 -\n",
      "127.0.0.1 - - [05/Sep/2024 12:10:50] \"POST /start_listening HTTP/1.1\" 200 -\n",
      "127.0.0.1 - - [05/Sep/2024 12:10:51] \"POST /send_message HTTP/1.1\" 200 -\n",
      "127.0.0.1 - - [05/Sep/2024 12:11:00] \"GET / HTTP/1.1\" 200 -\n"
     ]
    },
    {
     "name": "stdout",
     "output_type": "stream",
     "text": [
      "Listening...\n"
     ]
    },
    {
     "name": "stderr",
     "output_type": "stream",
     "text": [
      "127.0.0.1 - - [05/Sep/2024 12:11:09] \"POST /start_listening HTTP/1.1\" 200 -\n",
      "127.0.0.1 - - [05/Sep/2024 12:11:40] \"POST /send_message HTTP/1.1\" 200 -\n",
      "127.0.0.1 - - [05/Sep/2024 12:11:42] \"POST /send_message HTTP/1.1\" 200 -\n",
      "127.0.0.1 - - [05/Sep/2024 12:14:23] \"GET / HTTP/1.1\" 200 -\n"
     ]
    },
    {
     "name": "stdout",
     "output_type": "stream",
     "text": [
      "Listening...\n"
     ]
    },
    {
     "name": "stderr",
     "output_type": "stream",
     "text": [
      "127.0.0.1 - - [05/Sep/2024 12:14:37] \"POST /start_listening HTTP/1.1\" 200 -\n",
      "127.0.0.1 - - [05/Sep/2024 12:14:38] \"POST /send_message HTTP/1.1\" 200 -\n"
     ]
    }
   ],
   "source": [
    "from flask import Flask, render_template, request, jsonify\n",
    "from flask_cors import CORS\n",
    "from concurrent.futures import ThreadPoolExecutor\n",
    "import subprocess\n",
    "import json\n",
    "import os\n",
    "import random\n",
    "import speech_recognition as sr\n",
    "import tempfile\n",
    "import re\n",
    "\n",
    "app = Flask(__name__)\n",
    "CORS(app)\n",
    "\n",
    "executor = ThreadPoolExecutor(max_workers=3)\n",
    "response_cache = {}\n",
    "\n",
    "# Load intents\n",
    "with open('intents.json', 'r') as file:\n",
    "    intents = json.load(file)['intents']\n",
    "\n",
    "# Emotion mapping\n",
    "emotion_mapping = {\n",
    "    'greeting': 'happy',\n",
    "    'goodbye': 'sad',\n",
    "    # ... add the rest of the mappings\n",
    "    'neutral': 'neutral'\n",
    "}\n",
    "\n",
    "class MistralAssistant:\n",
    "    def __init__(self):\n",
    "        self.recognizer = sr.Recognizer()\n",
    "        self.wake_words = [\"luna\", \"danna\"]\n",
    "        self.response_cache = {}\n",
    "        self.temp_dir = tempfile.mkdtemp()\n",
    "        self.executor = ThreadPoolExecutor()\n",
    "\n",
    "    def listen_for_speech(self):\n",
    "        with sr.Microphone() as source:\n",
    "            print(\"Listening...\")\n",
    "            audio = self.recognizer.listen(source, timeout=5, phrase_time_limit=5)\n",
    "        try:\n",
    "            text = self.recognizer.recognize_google(audio)\n",
    "            return text\n",
    "        except sr.UnknownValueError:\n",
    "            return \"Sorry, I couldn't understand that.\"\n",
    "        except sr.RequestError:\n",
    "            return \"Sorry, there was an error with the speech recognition service.\"\n",
    "\n",
    "    def generate_response(self, prompt):\n",
    "        if prompt in self.response_cache:\n",
    "            return self.response_cache[prompt]\n",
    "\n",
    "        try:\n",
    "            result = subprocess.run(\n",
    "                ['ollama', 'run', 'phi3', prompt],\n",
    "                capture_output=True,\n",
    "                text=True,\n",
    "                check=True,\n",
    "                encoding='utf-8',\n",
    "                timeout=120\n",
    "            )\n",
    "\n",
    "            response = result.stdout.strip()\n",
    "            response = re.sub(r'failed to get console mode for std(out|err):.*\\n?', '', response).strip()\n",
    "\n",
    "            if not response:\n",
    "                return \"I'm sorry, I couldn't generate a proper response. How else can I assist you?\"\n",
    "\n",
    "            self.response_cache[prompt] = response\n",
    "            return response\n",
    "        except subprocess.TimeoutExpired:\n",
    "            print(\"Mistral response timed out after 30 seconds\")\n",
    "            return \"I'm sorry, but I couldn't generate a response in time. Please try again.\"\n",
    "        except subprocess.CalledProcessError as e:\n",
    "            print(f\"Error running Mistral: {e}\")\n",
    "            print(f\"Stderr: {e.stderr}\")\n",
    "            return \"Sorry, there was an error generating a response. Please check if Ollama and Mistral are set up correctly.\"\n",
    "        except Exception as e:\n",
    "            print(f\"Unexpected error: {e}\")\n",
    "            return \"An unexpected error occurred. Please try again.\"\n",
    "\n",
    "    def cleanup(self):\n",
    "        for file in os.listdir(self.temp_dir):\n",
    "            os.remove(os.path.join(self.temp_dir, file))\n",
    "        os.rmdir(self.temp_dir)\n",
    "        self.executor.shutdown()\n",
    "\n",
    "# Flask Routes\n",
    "\n",
    "@app.route('/')\n",
    "def index():\n",
    "    return render_template('emotisphere.html')\n",
    "\n",
    "@app.route('/send_message', methods=['POST'])\n",
    "def send_message():\n",
    "    user_message = request.json['message']\n",
    "    intent = detect_intent(user_message)\n",
    "    emotion = emotion_mapping.get(intent, 'neutral')\n",
    "    \n",
    "    # Generate response using the assistant\n",
    "    assistant = MistralAssistant()\n",
    "    response = assistant.generate_response(user_message)\n",
    "\n",
    "    return jsonify({'response': response, 'emotion': emotion})\n",
    "\n",
    "@app.route('/start_listening', methods=['POST'])\n",
    "def start_listening():\n",
    "    assistant = MistralAssistant()\n",
    "    try:\n",
    "        transcript = assistant.listen_for_speech()\n",
    "        return jsonify({'transcript': transcript})\n",
    "    except Exception as e:\n",
    "        return jsonify({'error': str(e)})\n",
    "\n",
    "def detect_intent(message):\n",
    "    for intent in intents:\n",
    "        for pattern in intent['patterns']:\n",
    "            if pattern.lower() in message.lower():\n",
    "                return intent['tag']\n",
    "    return 'neutral'\n",
    "\n",
    "if __name__ == \"__main__\":\n",
    "    assistant = MistralAssistant()\n",
    "    app.run(debug=True, use_reloader=False)\n",
    "    assistant.cleanup()\n",
    "nup()"
   ]
  }
 ],
 "metadata": {
  "kernelspec": {
   "display_name": "Python (emotionG7)",
   "language": "python",
   "name": "emotiong7"
  },
  "language_info": {
   "codemirror_mode": {
    "name": "ipython",
    "version": 3
   },
   "file_extension": ".py",
   "mimetype": "text/x-python",
   "name": "python",
   "nbconvert_exporter": "python",
   "pygments_lexer": "ipython3",
   "version": "3.8.19"
  }
 },
 "nbformat": 4,
 "nbformat_minor": 5
}
